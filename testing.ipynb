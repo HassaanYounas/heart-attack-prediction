{
 "cells": [
  {
   "cell_type": "markdown",
   "metadata": {},
   "source": [
    "### All imports in one place"
   ]
  },
  {
   "cell_type": "code",
   "execution_count": 133,
   "metadata": {},
   "outputs": [],
   "source": [
    "import csv\n",
    "import pickle\n",
    "import warnings\n",
    "import numpy as np\n",
    "import pandas as pd\n",
    "\n",
    "from sklearn.preprocessing import StandardScaler\n",
    "\n",
    "from sklearn.svm import SVC\n",
    "from sklearn.tree import DecisionTreeClassifier\n",
    "from sklearn.neighbors import KNeighborsClassifier\n",
    "from sklearn.ensemble import RandomForestClassifier\n",
    "from sklearn.linear_model import LogisticRegression"
   ]
  },
  {
   "cell_type": "markdown",
   "metadata": {},
   "source": [
    "### Ignoring warnings"
   ]
  },
  {
   "cell_type": "code",
   "execution_count": 134,
   "metadata": {},
   "outputs": [],
   "source": [
    "warnings.filterwarnings('ignore')"
   ]
  },
  {
   "cell_type": "markdown",
   "metadata": {},
   "source": [
    "### Loading testing dataset"
   ]
  },
  {
   "cell_type": "code",
   "execution_count": 135,
   "metadata": {},
   "outputs": [],
   "source": [
    "dataset = pd.read_csv('./corpora/x_test.csv')"
   ]
  },
  {
   "cell_type": "markdown",
   "metadata": {},
   "source": [
    "### Pre-processing the dataset"
   ]
  },
  {
   "cell_type": "code",
   "execution_count": 136,
   "metadata": {},
   "outputs": [],
   "source": [
    "dataset.drop('id', axis=1, inplace=True)\n",
    "dataset.drop('patient_no', axis=1, inplace=True)\n",
    "dataset.drop('weight', axis=1, inplace=True)\n",
    "dataset.drop('payer_code', axis=1, inplace=True)\n",
    "dataset.drop('medical_specialty', axis=1, inplace=True)\n",
    "dataset.drop('diag_1', axis=1, inplace=True)\n",
    "dataset.drop('diag_2', axis=1, inplace=True)\n",
    "dataset.drop('diag_3', axis=1, inplace=True)\n",
    "dataset.drop('admission_typeid', axis=1, inplace=True)\n",
    "dataset.drop('discharge_disposition_id', axis=1, inplace=True)\n",
    "dataset.drop('admission_source_id', axis=1, inplace=True)\n",
    "dataset.drop('time_in_hospital', axis=1, inplace=True)\n",
    "dataset.drop('num_lab_procedures', axis=1, inplace=True)\n",
    "dataset.drop('num_procedures', axis=1, inplace=True)\n",
    "dataset.drop('number_outpatient', axis=1, inplace=True)\n",
    "dataset.drop('number_emergency', axis=1, inplace=True)\n",
    "dataset.drop('number_inpatient', axis=1, inplace=True)\n",
    "dataset.drop('number_diagnoses', axis=1, inplace=True)\n",
    "dataset.drop('num_medications', axis=1, inplace=True)\n",
    "\n",
    "dataset['cast'].replace({'?': 'Other'}, inplace=True)\n",
    "dataset['cast'].replace({\n",
    "    'Caucasian': 1, \n",
    "    'AfricanAmerican': 2,\n",
    "    'Asian': 3,  \n",
    "    'Hispanic': 4,\n",
    "    'Other': 5\n",
    "}, inplace=True)\n",
    "dataset['gender'].replace({\n",
    "    'Male': '1',    \n",
    "    'Female': '2',\n",
    "    'Unknown/Invalid': '3'\n",
    "}, inplace=True)\n",
    "\n",
    "for i in dataset.index:\n",
    "    age_group = dataset.at[i, 'age group']\n",
    "    age_group = age_group.replace('[', '')    \n",
    "    age_group = age_group.replace(')', '')\n",
    "    age_group = age_group.split('-')\n",
    "    age = int((int(age_group[0]) + int(age_group[0])) / 2)\n",
    "    dataset.at[i, 'age group'] = age\n",
    "    \n",
    "dataset['max_glu_serum'].replace({\n",
    "    'None': 0, \n",
    "    'Norm': 120,\n",
    "    '>300': 320,  \n",
    "    '>200': 220\n",
    "}, inplace=True)\n",
    "\n",
    "dataset['A1Cresult'].replace({\n",
    "    'None': 0, \n",
    "    'Norm': 5,\n",
    "    '>8': 8,  \n",
    "    '>7': 7\n",
    "}, inplace=True)\n",
    "\n",
    "dataset['metformin'].replace({\n",
    "    'No': 0, \n",
    "    'Up': 1,\n",
    "    'Steady': 2,  \n",
    "    'Down': 3\n",
    "}, inplace=True)\n",
    "\n",
    "dataset['repaglinide'].replace({\n",
    "    'No': 0, \n",
    "    'Up': 1,\n",
    "    'Steady': 2,  \n",
    "    'Down': 3\n",
    "}, inplace=True)\n",
    "\n",
    "dataset['nateglinide'].replace({\n",
    "    'No': 0, \n",
    "    'Up': 1,\n",
    "    'Steady': 2,  \n",
    "    'Down': 3\n",
    "}, inplace=True)\n",
    "\n",
    "dataset['chlorpropamide'].replace({\n",
    "    'No': 0, \n",
    "    'Up': 1,\n",
    "    'Steady': 2,\n",
    "    'Down': 3\n",
    "}, inplace=True)\n",
    "\n",
    "dataset['glimepiride'].replace({\n",
    "    'No': 0, \n",
    "    'Up': 1,\n",
    "    'Steady': 2,\n",
    "    'Down': 3\n",
    "}, inplace=True)\n",
    "\n",
    "dataset['acetohexamide'].replace({\n",
    "    'No': 0, \n",
    "    'Up': 1,\n",
    "    'Steady': 2,\n",
    "    'Down': 3\n",
    "}, inplace=True)\n",
    "\n",
    "dataset['glipizide'].replace({\n",
    "    'No': 0, \n",
    "    'Up': 1,\n",
    "    'Steady': 2,\n",
    "    'Down': 3\n",
    "}, inplace=True)\n",
    "\n",
    "dataset['glyburide'].replace({\n",
    "    'No': 0, \n",
    "    'Up': 1,\n",
    "    'Steady': 2,\n",
    "    'Down': 3\n",
    "}, inplace=True)\n",
    "\n",
    "dataset['tolbutamide'].replace({\n",
    "    'No': 0, \n",
    "    'Steady': 2\n",
    "}, inplace=True)\n",
    "\n",
    "dataset['pioglitazone'].replace({\n",
    "    'No': 0, \n",
    "    'Up': 1,\n",
    "    'Steady': 2,\n",
    "    'Down': 3\n",
    "}, inplace=True)\n",
    "\n",
    "dataset['rosiglitazone'].replace({\n",
    "    'No': 0, \n",
    "    'Up': 1,\n",
    "    'Steady': 2,\n",
    "    'Down': 3\n",
    "}, inplace=True)\n",
    "\n",
    "dataset['acarbose'].replace({\n",
    "    'No': 0, \n",
    "    'Up': 1,\n",
    "    'Steady': 2,\n",
    "    'Down': 3\n",
    "}, inplace=True)\n",
    "\n",
    "dataset['miglitol'].replace({\n",
    "    'No': 0, \n",
    "    'Up': 1,\n",
    "    'Steady': 2,\n",
    "    'Down': 3\n",
    "}, inplace=True)\n",
    "\n",
    "dataset['troglitazone'].replace({\n",
    "    'No': 0, \n",
    "    'Up': 1,\n",
    "    'Steady': 2,\n",
    "    'Down': 3\n",
    "}, inplace=True)\n",
    "\n",
    "dataset['tolazamide'].replace({\n",
    "    'No': 0, \n",
    "    'Up': 1,\n",
    "    'Steady': 2,\n",
    "    'Down': 3\n",
    "}, inplace=True)\n",
    "\n",
    "dataset['examide'].replace({\n",
    "    'No': 0, \n",
    "    'Up': 1,\n",
    "    'Steady': 2,\n",
    "    'Down': 3\n",
    "}, inplace=True)\n",
    "\n",
    "dataset['citoglipton'].replace({\n",
    "    'No': 0, \n",
    "    'Up': 1,\n",
    "    'Steady': 2,\n",
    "    'Down': 3\n",
    "}, inplace=True)\n",
    "\n",
    "dataset['insulin'].replace({\n",
    "    'No': 0, \n",
    "    'Up': 1,\n",
    "    'Steady': 2,\n",
    "    'Down': 3\n",
    "}, inplace=True)\n",
    "\n",
    "dataset['glyburide-metformin'].replace({\n",
    "    'No': 0, \n",
    "    'Up': 1,\n",
    "    'Steady': 2,\n",
    "    'Down': 3\n",
    "}, inplace=True)\n",
    "\n",
    "dataset['glipizide-metformin'].replace({\n",
    "    'No': 0, \n",
    "    'Up': 1,\n",
    "    'Steady': 2,\n",
    "    'Down': 3\n",
    "}, inplace=True)\n",
    "\n",
    "dataset['glimepiride-pioglitazone'].replace({\n",
    "    'No': 0, \n",
    "    'Up': 1,\n",
    "    'Steady': 2,\n",
    "    'Down': 3\n",
    "}, inplace=True)\n",
    "\n",
    "dataset['metformin-rosiglitazone'].replace({\n",
    "    'No': 0, \n",
    "    'Up': 1,\n",
    "    'Steady': 2,\n",
    "    'Down': 3\n",
    "}, inplace=True)\n",
    "\n",
    "dataset['metformin-pioglitazone'].replace({\n",
    "    'No': 0, \n",
    "    'Up': 1,\n",
    "    'Steady': 2,\n",
    "    'Down': 3\n",
    "}, inplace=True)\n",
    "\n",
    "dataset['change'].replace({\n",
    "    'No': 0, \n",
    "    'Ch': 1\n",
    "}, inplace=True)\n",
    "\n",
    "dataset['Med'].replace({\n",
    "    'No': 0, \n",
    "    'Yes': 1\n",
    "}, inplace=True)\n",
    "\n",
    "dataset['gender'] = pd.to_numeric(dataset['gender'])\n",
    "dataset['age group'] = pd.to_numeric(dataset['age group'])\n",
    "dataset['max_glu_serum'] = pd.to_numeric(dataset['max_glu_serum'])\n",
    "dataset['A1Cresult'] = pd.to_numeric(dataset['A1Cresult'])\n",
    "dataset['metformin'] = pd.to_numeric(dataset['metformin'])\n",
    "dataset['repaglinide'] = pd.to_numeric(dataset['repaglinide'])\n",
    "dataset['nateglinide'] = pd.to_numeric(dataset['nateglinide'])\n",
    "dataset['chlorpropamide'] = pd.to_numeric(dataset['chlorpropamide'])\n",
    "dataset['glimepiride'] = pd.to_numeric(dataset['glimepiride'])\n",
    "dataset['acetohexamide'] = pd.to_numeric(dataset['acetohexamide'])\n",
    "dataset['glipizide'] = pd.to_numeric(dataset['glipizide'])\n",
    "dataset['glyburide'] = pd.to_numeric(dataset['glyburide'])\n",
    "dataset['tolbutamide'] = pd.to_numeric(dataset['tolbutamide'])\n",
    "dataset['pioglitazone'] = pd.to_numeric(dataset['pioglitazone'])\n",
    "dataset['rosiglitazone'] = pd.to_numeric(dataset['rosiglitazone'])\n",
    "dataset['acarbose'] = pd.to_numeric(dataset['acarbose'])\n",
    "dataset['miglitol'] = pd.to_numeric(dataset['miglitol'])\n",
    "dataset['troglitazone'] = pd.to_numeric(dataset['troglitazone'])\n",
    "dataset['tolazamide'] = pd.to_numeric(dataset['tolazamide'])\n",
    "dataset['examide'] = pd.to_numeric(dataset['examide'])\n",
    "dataset['citoglipton'] = pd.to_numeric(dataset['citoglipton'])\n",
    "dataset['insulin'] = pd.to_numeric(dataset['insulin'])\n",
    "dataset['glyburide-metformin'] = pd.to_numeric(dataset['glyburide-metformin'])\n",
    "dataset['glipizide-metformin'] = pd.to_numeric(dataset['glipizide-metformin'])\n",
    "dataset['glimepiride-pioglitazone'] = pd.to_numeric(dataset['glimepiride-pioglitazone'])\n",
    "dataset['metformin-rosiglitazone'] = pd.to_numeric(dataset['metformin-rosiglitazone'])\n",
    "dataset['metformin-pioglitazone'] = pd.to_numeric(dataset['metformin-pioglitazone'])\n",
    "dataset['change'] = pd.to_numeric(dataset['change'])\n",
    "dataset['Med'] = pd.to_numeric(dataset['Med'])\n",
    "\n",
    "standardScaler = StandardScaler()\n",
    "columns_to_scale = ['age group', 'max_glu_serum', 'A1Cresult']\n",
    "dataset[columns_to_scale] = standardScaler.fit_transform(dataset[columns_to_scale])"
   ]
  },
  {
   "cell_type": "markdown",
   "metadata": {},
   "source": [
    "### The testing dataset"
   ]
  },
  {
   "cell_type": "code",
   "execution_count": 123,
   "metadata": {},
   "outputs": [],
   "source": [
    "x_test, y_test = dataset, []"
   ]
  },
  {
   "cell_type": "markdown",
   "metadata": {},
   "source": [
    "### Testing the KNN Classifier"
   ]
  },
  {
   "cell_type": "code",
   "execution_count": 124,
   "metadata": {},
   "outputs": [],
   "source": [
    "knn_classifier = pickle.load(open('models/knn_classifier.sav', 'rb'))\n",
    "result = knn_classifier.predict(x_test)\n",
    "y_test.append(result)"
   ]
  },
  {
   "cell_type": "markdown",
   "metadata": {},
   "source": [
    "### Testing the Decision Tree Classifier"
   ]
  },
  {
   "cell_type": "code",
   "execution_count": 126,
   "metadata": {},
   "outputs": [],
   "source": [
    "dt_classifier = pickle.load(open('models/dt_classifier.sav', 'rb'))\n",
    "result = dt_classifier.predict(x_test)\n",
    "y_test.append(result)"
   ]
  },
  {
   "cell_type": "markdown",
   "metadata": {},
   "source": [
    "### Testing the SV Classifier"
   ]
  },
  {
   "cell_type": "code",
   "execution_count": 127,
   "metadata": {},
   "outputs": [],
   "source": [
    "svc_classifier = pickle.load(open('models/svc_classifier.sav', 'rb'))\n",
    "result = svc_classifier.predict(x_test)\n",
    "y_test.append(result)"
   ]
  },
  {
   "cell_type": "markdown",
   "metadata": {},
   "source": [
    "### Testing the Logistic Regression Classifier"
   ]
  },
  {
   "cell_type": "code",
   "execution_count": 128,
   "metadata": {},
   "outputs": [],
   "source": [
    "lg_classifier = pickle.load(open('models/lg_classifier.sav', 'rb'))\n",
    "result = lg_classifier.predict(x_test)\n",
    "y_test.append(result)"
   ]
  },
  {
   "cell_type": "markdown",
   "metadata": {},
   "source": [
    "### Testing the Random Forest Classifier"
   ]
  },
  {
   "cell_type": "code",
   "execution_count": 129,
   "metadata": {},
   "outputs": [],
   "source": [
    "rf_classifier = pickle.load(open('models/rf_classifier.sav', 'rb'))\n",
    "result = rf_classifier.predict(x_test)\n",
    "y_test.append(result)"
   ]
  },
  {
   "cell_type": "markdown",
   "metadata": {},
   "source": [
    "### Function to get most frequent value from a list"
   ]
  },
  {
   "cell_type": "code",
   "execution_count": 130,
   "metadata": {},
   "outputs": [],
   "source": [
    "def most_frequent(List): \n",
    "    dict = {} \n",
    "    count, itm = 0, '' \n",
    "    for item in reversed(List): \n",
    "        dict[item] = dict.get(item, 0) + 1\n",
    "        if dict[item] >= count : \n",
    "            count, itm = dict[item], item \n",
    "    return(itm)"
   ]
  },
  {
   "cell_type": "markdown",
   "metadata": {},
   "source": [
    "### Writing the finalized labels after majority voting method"
   ]
  },
  {
   "cell_type": "code",
   "execution_count": 131,
   "metadata": {},
   "outputs": [],
   "source": [
    "with open('corpora/myprediction.csv', mode='w', newline='') as prediction_file:\n",
    "    prediction_writer = csv.writer(prediction_file, delimiter=',')\n",
    "    prediction_writer.writerow(['Id', 'label'])\n",
    "    for i in range(len(y_test[0])):\n",
    "        labels = []\n",
    "        for j in range(len(y_test)):\n",
    "            labels.append(y_test[j][i])\n",
    "        if most_frequent(labels) == 1:\n",
    "            prediction_writer.writerow([str(i + 1), 'NO'])\n",
    "        elif most_frequent(labels) == 2:\n",
    "            prediction_writer.writerow([str(i + 1), '>5'])\n",
    "        elif most_frequent(labels) == 3:\n",
    "            prediction_writer.writerow([str(i + 1), '<30'])"
   ]
  }
 ],
 "metadata": {
  "kernelspec": {
   "display_name": "myenv",
   "language": "python",
   "name": "myenv"
  },
  "language_info": {
   "codemirror_mode": {
    "name": "ipython",
    "version": 3
   },
   "file_extension": ".py",
   "mimetype": "text/x-python",
   "name": "python",
   "nbconvert_exporter": "python",
   "pygments_lexer": "ipython3",
   "version": "3.6.1"
  }
 },
 "nbformat": 4,
 "nbformat_minor": 4
}
